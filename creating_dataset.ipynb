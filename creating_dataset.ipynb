{
 "cells": [
  {
   "cell_type": "code",
   "execution_count": 3,
   "metadata": {},
   "outputs": [],
   "source": [
    "# модуль в котором содержатся модели распознавания\n",
    "import face_rec_mod\n",
    "# библиотеки\n",
    "import glob\n",
    "import dlib\n",
    "import numpy\n",
    "from skimage import io\n",
    "from scipy.spatial import distance\n",
    "import json\n",
    "import face_recognition\n",
    "import cv2"
   ]
  },
  {
   "cell_type": "code",
   "execution_count": 10,
   "metadata": {},
   "outputs": [],
   "source": [
    "#создадим массив подписей для дескрипторов фото, в нашем случае подпись это имя файла\n",
    "labelsArr = []\n",
    "for image_file_name in glob.glob('../photo/*.jpg'):\n",
    "    labelsArr.append(image_file_name[9:-4])"
   ]
  },
  {
   "cell_type": "code",
   "execution_count": 5,
   "metadata": {},
   "outputs": [],
   "source": [
    "#выделим характеристики для записи в датасет\n",
    "def recordFaceDesc (photo, name):\n",
    "    img = io.imread(photo)\n",
    "\n",
    "    dets = face_rec_mod.detector(img, 1)\n",
    "\n",
    "    for k, d in enumerate(dets):\n",
    "        shape = face_rec_mod.sp(img, d)\n",
    "\n",
    "    face_descriptor1 = face_rec_mod.facerec.compute_face_descriptor(img, shape)\n",
    "\n",
    "    face_descriptorList = list(face_descriptor1)\n",
    "\n",
    "    datajs = json.dumps({\"desc\": face_descriptorList, \"name\": name}, sort_keys=True)\n",
    "    return datajs"
   ]
  },
  {
   "cell_type": "code",
   "execution_count": 6,
   "metadata": {},
   "outputs": [],
   "source": [
    "# перезапись датасета полностью, записывает в датасет дескрипторы и имя всех фото в заданной папке \n",
    "# имена берет из заранее заданного массива по порядку\n",
    "def insertManyDescInDatabase (path, labels, dataFileName):\n",
    "    img_array = []\n",
    "    for i, image_file_name in enumerate(glob.glob(path)): \n",
    "        label = labels[i]\n",
    "        print (\"loading ... \", image_file_name)\n",
    "        img_array.append(recordFaceDesc(image_file_name, label))\n",
    "    f = open(dataFileName, 'w')\n",
    "    for index in img_array:\n",
    "        f.write(index + '\\n')\n",
    "    f.close()\n",
    "    print('end')"
   ]
  },
  {
   "cell_type": "code",
   "execution_count": 11,
   "metadata": {},
   "outputs": [
    {
     "name": "stdout",
     "output_type": "stream",
     "text": [
      "loading ...  ../photo\\anna karenina.jpg\n",
      "loading ...  ../photo\\Anne Hathaway.jpg\n",
      "loading ...  ../photo\\Ben Affleck.jpg\n",
      "loading ...  ../photo\\ben afflek.jpg\n",
      "loading ...  ../photo\\Bill Kelly.jpg\n",
      "loading ...  ../photo\\Carlos Leal.jpg\n",
      "loading ...  ../photo\\David Vadim.jpg\n",
      "loading ...  ../photo\\Edi Gathegi.jpg\n",
      "loading ...  ../photo\\elton john.jpg\n",
      "loading ...  ../photo\\jerry seinfeld.jpg\n",
      "loading ...  ../photo\\Julian Gamble.jpg\n",
      "loading ...  ../photo\\madonna.jpg\n",
      "loading ...  ../photo\\Maria.jpg\n",
      "loading ...  ../photo\\Mel Rodriguez.jpg\n",
      "loading ...  ../photo\\mindy kaling.jpg\n",
      "loading ...  ../photo\\Onata Aprile.jpg\n",
      "loading ...  ../photo\\Robert Sedgwick.jpg\n",
      "loading ...  ../photo\\Rosie Perez.jpg\n",
      "loading ...  ../photo\\Toby Jones.jpg\n",
      "loading ...  ../photo\\Willem Dafoe.jpg\n",
      "end\n"
     ]
    }
   ],
   "source": [
    "insertManyDescInDatabase('../photo/*.jpg', labelsArr, 'database.txt')"
   ]
  },
  {
   "cell_type": "code",
   "execution_count": 12,
   "metadata": {},
   "outputs": [],
   "source": [
    "# дописывает в датасет один дескриптор\n",
    "def insertOneDescInDatabase (fileName, label, dataFileName):\n",
    "    record = recordFaceDesc(fileName, label)\n",
    "    print (\"loading ... \", fileName)\n",
    "    f = open(dataFileName, 'a')\n",
    "    f.write(record + '\\n')\n",
    "    f.close()\n",
    "    print('end')"
   ]
  },
  {
   "cell_type": "code",
   "execution_count": 13,
   "metadata": {},
   "outputs": [
    {
     "name": "stdout",
     "output_type": "stream",
     "text": [
      "loading ...  ../photo/Toby Jones.jpg\n",
      "end\n"
     ]
    }
   ],
   "source": [
    "insertOneDescInDatabase('../photo/Toby Jones.jpg', 'Toby Jones', 'database.txt')"
   ]
  },
  {
   "cell_type": "code",
   "execution_count": 14,
   "metadata": {},
   "outputs": [
    {
     "name": "stdout",
     "output_type": "stream",
     "text": [
      "gt_db\\s01\\01.jpg\n",
      "gt_db\\s02\\01.jpg\n",
      "gt_db\\s03\\01.jpg\n",
      "gt_db\\s04\\01.jpg\n",
      "gt_db\\s05\\01.jpg\n",
      "gt_db\\s06\\01.jpg\n",
      "gt_db\\s07\\01.jpg\n",
      "gt_db\\s08\\01.jpg\n",
      "gt_db\\s09\\01.jpg\n",
      "gt_db\\s10\\01.jpg\n",
      "gt_db\\s11\\01.jpg\n",
      "gt_db\\s12\\01.jpg\n",
      "gt_db\\s13\\01.jpg\n",
      "gt_db\\s14\\01.jpg\n",
      "gt_db\\s15\\01.jpg\n",
      "gt_db\\s16\\01.jpg\n",
      "gt_db\\s17\\01.jpg\n",
      "gt_db\\s18\\01.jpg\n",
      "gt_db\\s19\\01.jpg\n",
      "gt_db\\s20\\01.jpg\n",
      "gt_db\\s21\\01.jpg\n",
      "gt_db\\s22\\01.jpg\n",
      "gt_db\\s23\\01.jpg\n",
      "gt_db\\s24\\01.jpg\n",
      "gt_db\\s25\\01.jpg\n",
      "gt_db\\s26\\01.jpg\n",
      "gt_db\\s27\\01.jpg\n",
      "gt_db\\s28\\01.jpg\n",
      "gt_db\\s29\\01.jpg\n",
      "gt_db\\s30\\01.jpg\n",
      "gt_db\\s31\\01.jpg\n",
      "gt_db\\s32\\01.jpg\n",
      "gt_db\\s33\\01.jpg\n",
      "gt_db\\s34\\01.jpg\n",
      "gt_db\\s35\\01.jpg\n",
      "gt_db\\s36\\01.jpg\n",
      "gt_db\\s37\\01.jpg\n",
      "gt_db\\s38\\01.jpg\n",
      "gt_db\\s39\\01.jpg\n",
      "gt_db\\s40\\01.jpg\n",
      "gt_db\\s41\\01.jpg\n",
      "gt_db\\s42\\01.jpg\n",
      "gt_db\\s43\\01.jpg\n",
      "gt_db\\s44\\01.jpg\n",
      "gt_db\\s45\\01.jpg\n",
      "gt_db\\s46\\01.jpg\n",
      "gt_db\\s47\\01.jpg\n",
      "gt_db\\s48\\01.jpg\n",
      "gt_db\\s49\\01.jpg\n",
      "gt_db\\s50\\01.jpg\n"
     ]
    }
   ],
   "source": [
    "# создание датасет по датасету Georgia Tech face database\n",
    "labelsArr = []\n",
    "for image_file_name in glob.glob('gt_db/s*/01.jpg'):\n",
    "    labelsArr.append(image_file_name[6:-7])\n",
    "    print(image_file_name)"
   ]
  },
  {
   "cell_type": "code",
   "execution_count": 15,
   "metadata": {},
   "outputs": [
    {
     "name": "stdout",
     "output_type": "stream",
     "text": [
      "loading ...  gt_db\\s01\\01.jpg\n",
      "loading ...  gt_db\\s02\\01.jpg\n",
      "loading ...  gt_db\\s03\\01.jpg\n",
      "loading ...  gt_db\\s04\\01.jpg\n",
      "loading ...  gt_db\\s05\\01.jpg\n",
      "loading ...  gt_db\\s06\\01.jpg\n",
      "loading ...  gt_db\\s07\\01.jpg\n",
      "loading ...  gt_db\\s08\\01.jpg\n",
      "loading ...  gt_db\\s09\\01.jpg\n",
      "loading ...  gt_db\\s10\\01.jpg\n",
      "loading ...  gt_db\\s11\\01.jpg\n",
      "loading ...  gt_db\\s12\\01.jpg\n",
      "loading ...  gt_db\\s13\\01.jpg\n",
      "loading ...  gt_db\\s14\\01.jpg\n",
      "loading ...  gt_db\\s15\\01.jpg\n",
      "loading ...  gt_db\\s16\\01.jpg\n",
      "loading ...  gt_db\\s17\\01.jpg\n",
      "loading ...  gt_db\\s18\\01.jpg\n",
      "loading ...  gt_db\\s19\\01.jpg\n",
      "loading ...  gt_db\\s20\\01.jpg\n",
      "loading ...  gt_db\\s21\\01.jpg\n",
      "loading ...  gt_db\\s22\\01.jpg\n",
      "loading ...  gt_db\\s23\\01.jpg\n",
      "loading ...  gt_db\\s24\\01.jpg\n",
      "loading ...  gt_db\\s25\\01.jpg\n",
      "loading ...  gt_db\\s26\\01.jpg\n",
      "loading ...  gt_db\\s27\\01.jpg\n",
      "loading ...  gt_db\\s28\\01.jpg\n",
      "loading ...  gt_db\\s29\\01.jpg\n",
      "loading ...  gt_db\\s30\\01.jpg\n",
      "loading ...  gt_db\\s31\\01.jpg\n",
      "loading ...  gt_db\\s32\\01.jpg\n",
      "loading ...  gt_db\\s33\\01.jpg\n",
      "loading ...  gt_db\\s34\\01.jpg\n",
      "loading ...  gt_db\\s35\\01.jpg\n",
      "loading ...  gt_db\\s36\\01.jpg\n",
      "loading ...  gt_db\\s37\\01.jpg\n",
      "loading ...  gt_db\\s38\\01.jpg\n",
      "loading ...  gt_db\\s39\\01.jpg\n",
      "loading ...  gt_db\\s40\\01.jpg\n",
      "loading ...  gt_db\\s41\\01.jpg\n",
      "loading ...  gt_db\\s42\\01.jpg\n",
      "loading ...  gt_db\\s43\\01.jpg\n",
      "loading ...  gt_db\\s44\\01.jpg\n",
      "loading ...  gt_db\\s45\\01.jpg\n",
      "loading ...  gt_db\\s46\\01.jpg\n",
      "loading ...  gt_db\\s47\\01.jpg\n",
      "loading ...  gt_db\\s48\\01.jpg\n",
      "loading ...  gt_db\\s49\\01.jpg\n",
      "loading ...  gt_db\\s50\\01.jpg\n",
      "end\n"
     ]
    }
   ],
   "source": [
    "insertManyDescInDatabase('gt_db/s*/01.jpg', labelsArr, 'GTdatabase.txt')"
   ]
  },
  {
   "cell_type": "code",
   "execution_count": null,
   "metadata": {},
   "outputs": [],
   "source": []
  }
 ],
 "metadata": {
  "kernelspec": {
   "display_name": "Python 3",
   "language": "python",
   "name": "python3"
  }
 },
 "nbformat": 4,
 "nbformat_minor": 2
}
